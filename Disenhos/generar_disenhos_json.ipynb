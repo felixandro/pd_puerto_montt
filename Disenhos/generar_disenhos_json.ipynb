{
 "cells": [
  {
   "cell_type": "code",
   "execution_count": 26,
   "id": "c872fbf3",
   "metadata": {},
   "outputs": [],
   "source": [
    "import json\n",
    "import pandas as pd"
   ]
  },
  {
   "cell_type": "code",
   "execution_count": 27,
   "id": "58aec2b2",
   "metadata": {},
   "outputs": [],
   "source": [
    "pares_dict = {\n",
    "    1 : \"M_Montt\",\n",
    "    2 : \"M_Montt\",\n",
    "    3 : \"M_Montt\",\n",
    "    4 : \"Mirasol\",\n",
    "    5 : \"Mirasol\",\n",
    "    6 : \"Mirasol\",\n",
    "    7 : \"Alerce\",\n",
    "    8 : \"Alerce\",\n",
    "    9 : \"Alerce\",\n",
    "    10: \"Alerce\",\n",
    "}"
   ]
  },
  {
   "cell_type": "code",
   "execution_count": null,
   "id": "f6b02da4",
   "metadata": {},
   "outputs": [],
   "source": [
    "alt1_dict = {\n",
    "    1 : \"Auto\",\n",
    "    2 : \"Taxibus\",\n",
    "    3 : \"Taxi Colectivo\",\n",
    "    4 : \"Auto\",\n",
    "    5 : \"Taxibus\",\n",
    "    6 : \"Taxi Colectivo\",\n",
    "    7 : \"Auto\",\n",
    "    8 : \"Taxibus\",\n",
    "    9 : \"Taxi Colectivo\",\n",
    "    10: \"Taxibus\"\n",
    "}"
   ]
  },
  {
   "cell_type": "code",
   "execution_count": 29,
   "id": "e1fd323e",
   "metadata": {},
   "outputs": [],
   "source": [
    "alt2_dict = {\n",
    "    1 : \"Teleférico\",\n",
    "    2 : \"Teleférico\",\n",
    "    3 : \"Teleférico\",\n",
    "    4 : \"Taxibus - Teleférico\",\n",
    "    5 : \"Taxibus - Teleférico\",\n",
    "    6 : \"Taxibus - Teleférico\",\n",
    "    7 : \"Taxibus - Teleférico\",\n",
    "    8 : \"Taxibus - Teleférico\",\n",
    "    9 : \"Taxibus - Teleférico\",\n",
    "    10: \"Taxibus - Tren - Taxibus\"\n",
    "}"
   ]
  },
  {
   "cell_type": "code",
   "execution_count": 30,
   "id": "6ba822d5",
   "metadata": {},
   "outputs": [
    {
     "name": "stdout",
     "output_type": "stream",
     "text": [
      "         Diseño  c_A1  tv_A1  te_A1  tc_A1  c_A2  tv_A2  te_A2  tc_A2\n",
      "Tarjeta                                                              \n",
      "1             1  2000     12      0      5  1200     12      3      9\n",
      "2             1  2000     17      0      3  1200     12      5      9\n",
      "3             1  2200     12      0      3  1200     12      3      9\n",
      "4             1  2200     17      0      5  1200     12      5      9\n",
      "5             1  2400     12      0      5  1200     12      5      9\n",
      "6             1  2400     17      0      3  1200     12      3      9\n",
      "7             1  2200     12      0      3  1200     12      5      9\n",
      "8             1  2200     17      0      5  1200     12      3      9\n"
     ]
    }
   ],
   "source": [
    "dis_path = \"..\\\\..\\\\DISEÑO_PD\\\\DIS_1_LIV_M_Montt\\\\DIS1.csv\"\n",
    "dis_df = pd.read_csv(dis_path, sep=\";\", index_col= \"Tarjeta\")\n",
    "\n",
    "print(dis_df)"
   ]
  },
  {
   "cell_type": "code",
   "execution_count": 31,
   "id": "7f86bcda",
   "metadata": {},
   "outputs": [],
   "source": [
    "def generar_json(nro_disenho, dis_df):\n",
    "    \"\"\"\n",
    "    Genera un archivo JSON con los datos del diseño especificado.\n",
    "    \n",
    "    Args:\n",
    "        nro_disenho (int): Número del diseño a generar.\n",
    "    \"\"\"\n",
    "\n",
    "\n",
    "    data = {\n",
    "        \"nro_disenho\": nro_disenho,\n",
    "        \"par\": pares_dict[nro_disenho],\n",
    "        \"alt1\": alt1_dict[nro_disenho],\n",
    "        \"alt2\": alt2_dict[nro_disenho],\n",
    "    }\n",
    "\n",
    "    for i in range(1,9):\n",
    "        tarjeta_dict = {}\n",
    "\n",
    "        for j in [1,2]:\n",
    "            c = dis_df.loc[i, f\"c_A{j}\"]\n",
    "            tv = dis_df.loc[i, f\"tv_A{j}\"]\n",
    "            te = dis_df.loc[i, f\"te_A{j}\"]\n",
    "            tc = dis_df.loc[i, f\"tc_A{j}\"]\n",
    "            tarjeta_dict[f\"A{j}\"] = [int(c), int(tv), int(te), int(tc)]\n",
    "\n",
    "        data[f\"T{i}\"] = tarjeta_dict\n",
    "    \n",
    "    with open(f\"disenho_{nro_disenho}.json\", 'w') as json_file:\n",
    "        json.dump(data, json_file, indent=4, ensure_ascii=False)\n",
    "\n"
   ]
  },
  {
   "cell_type": "code",
   "execution_count": 32,
   "id": "c6c5622b",
   "metadata": {},
   "outputs": [],
   "source": [
    "generar_json(1, dis_df)"
   ]
  }
 ],
 "metadata": {
  "kernelspec": {
   "display_name": "faqs-env",
   "language": "python",
   "name": "python3"
  },
  "language_info": {
   "codemirror_mode": {
    "name": "ipython",
    "version": 3
   },
   "file_extension": ".py",
   "mimetype": "text/x-python",
   "name": "python",
   "nbconvert_exporter": "python",
   "pygments_lexer": "ipython3",
   "version": "3.12.6"
  }
 },
 "nbformat": 4,
 "nbformat_minor": 5
}
